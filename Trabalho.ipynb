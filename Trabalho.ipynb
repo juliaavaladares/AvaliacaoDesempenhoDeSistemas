{
 "cells": [
  {
   "cell_type": "markdown",
   "metadata": {},
   "source": [
    "TRABALHO ANÁLISE DE DESEMPENHO DE SISTEMAS - PARTE 1 \n",
    "               ====================================================\n",
    "               "
   ]
  },
  {
   "cell_type": "code",
   "execution_count": 235,
   "metadata": {},
   "outputs": [],
   "source": [
    "import pandas as pd\n",
    "import numpy as np\n",
    "import matplotlib.pyplot as plt"
   ]
  },
  {
   "cell_type": "code",
   "execution_count": 236,
   "metadata": {},
   "outputs": [],
   "source": [
    "dados = pd.read_csv('arquivo1.txt', names = [\"Tamanho\"]) #Todos os dados ordenador"
   ]
  },
  {
   "cell_type": "code",
   "execution_count": 237,
   "metadata": {},
   "outputs": [
    {
     "data": {
      "text/html": [
       "<div>\n",
       "<style scoped>\n",
       "    .dataframe tbody tr th:only-of-type {\n",
       "        vertical-align: middle;\n",
       "    }\n",
       "\n",
       "    .dataframe tbody tr th {\n",
       "        vertical-align: top;\n",
       "    }\n",
       "\n",
       "    .dataframe thead th {\n",
       "        text-align: right;\n",
       "    }\n",
       "</style>\n",
       "<table border=\"1\" class=\"dataframe\">\n",
       "  <thead>\n",
       "    <tr style=\"text-align: right;\">\n",
       "      <th></th>\n",
       "      <th>Tamanho</th>\n",
       "    </tr>\n",
       "  </thead>\n",
       "  <tbody>\n",
       "    <tr>\n",
       "      <th>0</th>\n",
       "      <td>4</td>\n",
       "    </tr>\n",
       "    <tr>\n",
       "      <th>1</th>\n",
       "      <td>4</td>\n",
       "    </tr>\n",
       "    <tr>\n",
       "      <th>2</th>\n",
       "      <td>4</td>\n",
       "    </tr>\n",
       "    <tr>\n",
       "      <th>3</th>\n",
       "      <td>4</td>\n",
       "    </tr>\n",
       "    <tr>\n",
       "      <th>4</th>\n",
       "      <td>4</td>\n",
       "    </tr>\n",
       "    <tr>\n",
       "      <th>5</th>\n",
       "      <td>4</td>\n",
       "    </tr>\n",
       "    <tr>\n",
       "      <th>6</th>\n",
       "      <td>4</td>\n",
       "    </tr>\n",
       "    <tr>\n",
       "      <th>7</th>\n",
       "      <td>4</td>\n",
       "    </tr>\n",
       "    <tr>\n",
       "      <th>8</th>\n",
       "      <td>4</td>\n",
       "    </tr>\n",
       "    <tr>\n",
       "      <th>9</th>\n",
       "      <td>4</td>\n",
       "    </tr>\n",
       "    <tr>\n",
       "      <th>10</th>\n",
       "      <td>4</td>\n",
       "    </tr>\n",
       "    <tr>\n",
       "      <th>11</th>\n",
       "      <td>4</td>\n",
       "    </tr>\n",
       "    <tr>\n",
       "      <th>12</th>\n",
       "      <td>4</td>\n",
       "    </tr>\n",
       "    <tr>\n",
       "      <th>13</th>\n",
       "      <td>4</td>\n",
       "    </tr>\n",
       "    <tr>\n",
       "      <th>14</th>\n",
       "      <td>4</td>\n",
       "    </tr>\n",
       "    <tr>\n",
       "      <th>15</th>\n",
       "      <td>4</td>\n",
       "    </tr>\n",
       "    <tr>\n",
       "      <th>16</th>\n",
       "      <td>4</td>\n",
       "    </tr>\n",
       "    <tr>\n",
       "      <th>17</th>\n",
       "      <td>4</td>\n",
       "    </tr>\n",
       "    <tr>\n",
       "      <th>18</th>\n",
       "      <td>4</td>\n",
       "    </tr>\n",
       "    <tr>\n",
       "      <th>19</th>\n",
       "      <td>4</td>\n",
       "    </tr>\n",
       "    <tr>\n",
       "      <th>20</th>\n",
       "      <td>4</td>\n",
       "    </tr>\n",
       "    <tr>\n",
       "      <th>21</th>\n",
       "      <td>4</td>\n",
       "    </tr>\n",
       "    <tr>\n",
       "      <th>22</th>\n",
       "      <td>4</td>\n",
       "    </tr>\n",
       "    <tr>\n",
       "      <th>23</th>\n",
       "      <td>4</td>\n",
       "    </tr>\n",
       "    <tr>\n",
       "      <th>24</th>\n",
       "      <td>4</td>\n",
       "    </tr>\n",
       "    <tr>\n",
       "      <th>25</th>\n",
       "      <td>4</td>\n",
       "    </tr>\n",
       "    <tr>\n",
       "      <th>26</th>\n",
       "      <td>4</td>\n",
       "    </tr>\n",
       "    <tr>\n",
       "      <th>27</th>\n",
       "      <td>4</td>\n",
       "    </tr>\n",
       "    <tr>\n",
       "      <th>28</th>\n",
       "      <td>4</td>\n",
       "    </tr>\n",
       "    <tr>\n",
       "      <th>29</th>\n",
       "      <td>4</td>\n",
       "    </tr>\n",
       "    <tr>\n",
       "      <th>...</th>\n",
       "      <td>...</td>\n",
       "    </tr>\n",
       "    <tr>\n",
       "      <th>29252</th>\n",
       "      <td>75420</td>\n",
       "    </tr>\n",
       "    <tr>\n",
       "      <th>29253</th>\n",
       "      <td>75420</td>\n",
       "    </tr>\n",
       "    <tr>\n",
       "      <th>29254</th>\n",
       "      <td>78656</td>\n",
       "    </tr>\n",
       "    <tr>\n",
       "      <th>29255</th>\n",
       "      <td>78656</td>\n",
       "    </tr>\n",
       "    <tr>\n",
       "      <th>29256</th>\n",
       "      <td>88256</td>\n",
       "    </tr>\n",
       "    <tr>\n",
       "      <th>29257</th>\n",
       "      <td>88256</td>\n",
       "    </tr>\n",
       "    <tr>\n",
       "      <th>29258</th>\n",
       "      <td>111368</td>\n",
       "    </tr>\n",
       "    <tr>\n",
       "      <th>29259</th>\n",
       "      <td>111368</td>\n",
       "    </tr>\n",
       "    <tr>\n",
       "      <th>29260</th>\n",
       "      <td>111444</td>\n",
       "    </tr>\n",
       "    <tr>\n",
       "      <th>29261</th>\n",
       "      <td>111444</td>\n",
       "    </tr>\n",
       "    <tr>\n",
       "      <th>29262</th>\n",
       "      <td>144596</td>\n",
       "    </tr>\n",
       "    <tr>\n",
       "      <th>29263</th>\n",
       "      <td>144596</td>\n",
       "    </tr>\n",
       "    <tr>\n",
       "      <th>29264</th>\n",
       "      <td>155552</td>\n",
       "    </tr>\n",
       "    <tr>\n",
       "      <th>29265</th>\n",
       "      <td>155552</td>\n",
       "    </tr>\n",
       "    <tr>\n",
       "      <th>29266</th>\n",
       "      <td>297480</td>\n",
       "    </tr>\n",
       "    <tr>\n",
       "      <th>29267</th>\n",
       "      <td>297480</td>\n",
       "    </tr>\n",
       "    <tr>\n",
       "      <th>29268</th>\n",
       "      <td>668216</td>\n",
       "    </tr>\n",
       "    <tr>\n",
       "      <th>29269</th>\n",
       "      <td>764416</td>\n",
       "    </tr>\n",
       "    <tr>\n",
       "      <th>29270</th>\n",
       "      <td>764416</td>\n",
       "    </tr>\n",
       "    <tr>\n",
       "      <th>29271</th>\n",
       "      <td>764512</td>\n",
       "    </tr>\n",
       "    <tr>\n",
       "      <th>29272</th>\n",
       "      <td>764512</td>\n",
       "    </tr>\n",
       "    <tr>\n",
       "      <th>29273</th>\n",
       "      <td>3276964</td>\n",
       "    </tr>\n",
       "    <tr>\n",
       "      <th>29274</th>\n",
       "      <td>3276972</td>\n",
       "    </tr>\n",
       "    <tr>\n",
       "      <th>29275</th>\n",
       "      <td>3500412</td>\n",
       "    </tr>\n",
       "    <tr>\n",
       "      <th>29276</th>\n",
       "      <td>3500420</td>\n",
       "    </tr>\n",
       "    <tr>\n",
       "      <th>29277</th>\n",
       "      <td>4168672</td>\n",
       "    </tr>\n",
       "    <tr>\n",
       "      <th>29278</th>\n",
       "      <td>4168704</td>\n",
       "    </tr>\n",
       "    <tr>\n",
       "      <th>29279</th>\n",
       "      <td>4186172</td>\n",
       "    </tr>\n",
       "    <tr>\n",
       "      <th>29280</th>\n",
       "      <td>4186176</td>\n",
       "    </tr>\n",
       "    <tr>\n",
       "      <th>29281</th>\n",
       "      <td>8504944</td>\n",
       "    </tr>\n",
       "  </tbody>\n",
       "</table>\n",
       "<p>29282 rows × 1 columns</p>\n",
       "</div>"
      ],
      "text/plain": [
       "       Tamanho\n",
       "0            4\n",
       "1            4\n",
       "2            4\n",
       "3            4\n",
       "4            4\n",
       "5            4\n",
       "6            4\n",
       "7            4\n",
       "8            4\n",
       "9            4\n",
       "10           4\n",
       "11           4\n",
       "12           4\n",
       "13           4\n",
       "14           4\n",
       "15           4\n",
       "16           4\n",
       "17           4\n",
       "18           4\n",
       "19           4\n",
       "20           4\n",
       "21           4\n",
       "22           4\n",
       "23           4\n",
       "24           4\n",
       "25           4\n",
       "26           4\n",
       "27           4\n",
       "28           4\n",
       "29           4\n",
       "...        ...\n",
       "29252    75420\n",
       "29253    75420\n",
       "29254    78656\n",
       "29255    78656\n",
       "29256    88256\n",
       "29257    88256\n",
       "29258   111368\n",
       "29259   111368\n",
       "29260   111444\n",
       "29261   111444\n",
       "29262   144596\n",
       "29263   144596\n",
       "29264   155552\n",
       "29265   155552\n",
       "29266   297480\n",
       "29267   297480\n",
       "29268   668216\n",
       "29269   764416\n",
       "29270   764416\n",
       "29271   764512\n",
       "29272   764512\n",
       "29273  3276964\n",
       "29274  3276972\n",
       "29275  3500412\n",
       "29276  3500420\n",
       "29277  4168672\n",
       "29278  4168704\n",
       "29279  4186172\n",
       "29280  4186176\n",
       "29281  8504944\n",
       "\n",
       "[29282 rows x 1 columns]"
      ]
     },
     "execution_count": 237,
     "metadata": {},
     "output_type": "execute_result"
    }
   ],
   "source": [
    "dados"
   ]
  },
  {
   "cell_type": "markdown",
   "metadata": {},
   "source": [
    "Média\n",
    "==============="
   ]
  },
  {
   "cell_type": "code",
   "execution_count": 238,
   "metadata": {},
   "outputs": [],
   "source": [
    "def media():\n",
    "    i = 0\n",
    "    soma = 0\n",
    "    while i < len(dados):\n",
    "        soma += dados[\"Tamanho\"][i]\n",
    "        i = i+1\n",
    "    media = soma/(i)\n",
    "    return media \n",
    "    "
   ]
  },
  {
   "cell_type": "markdown",
   "metadata": {},
   "source": [
    "Variância\n",
    "========="
   ]
  },
  {
   "cell_type": "code",
   "execution_count": 239,
   "metadata": {},
   "outputs": [],
   "source": [
    "def variancia():\n",
    "    i = 0 \n",
    "    var = 0 #variável para calcular a variância \n",
    "    med = media() #variavel para guardar a media\n",
    "    while i < len(dados):\n",
    "        x = (dados[\"Tamanho\"][i] - med)**2\n",
    "        var += x /(len(dados) - 1)\n",
    "        i = i+1\n",
    "    return var"
   ]
  },
  {
   "cell_type": "markdown",
   "metadata": {},
   "source": [
    "Desvio Padrão\n",
    "=============="
   ]
  },
  {
   "cell_type": "code",
   "execution_count": 240,
   "metadata": {},
   "outputs": [],
   "source": [
    "def desvio_padrao():\n",
    "    dp = np.sqrt(variancia())\n",
    "    return dp"
   ]
  },
  {
   "cell_type": "markdown",
   "metadata": {},
   "source": [
    "Coeficiente de Variabilidade\n",
    "========="
   ]
  },
  {
   "cell_type": "code",
   "execution_count": 241,
   "metadata": {},
   "outputs": [],
   "source": [
    "def coeficiente_variabilidade():\n",
    "    cv = (desvio_padrao()/media())\n",
    "    return cv"
   ]
  },
  {
   "cell_type": "markdown",
   "metadata": {},
   "source": [
    "Mediana\n",
    "========"
   ]
  },
  {
   "cell_type": "code",
   "execution_count": 242,
   "metadata": {},
   "outputs": [],
   "source": [
    "def mediana():\n",
    "    centro = len(dados)/2\n",
    "    if(len(dados) % 2 == 0):\n",
    "        a = dados.iloc[int(centro)]\n",
    "        b = dados.iloc[int(centro) + 1]\n",
    "        mediana = int((a+b)/2)\n",
    "    else:\n",
    "        mediana = int(dados.iloc[int(centro) + 1])    \n",
    "    return mediana"
   ]
  },
  {
   "cell_type": "markdown",
   "metadata": {},
   "source": [
    "Amplitude\n",
    "============"
   ]
  },
  {
   "cell_type": "code",
   "execution_count": 243,
   "metadata": {},
   "outputs": [],
   "source": [
    "def amplitude():\n",
    "    amp = int(dados.iloc[len(dados) - 1] - dados.iloc[0])\n",
    "    return amp"
   ]
  },
  {
   "cell_type": "markdown",
   "metadata": {},
   "source": [
    "Quartil\n",
    "========="
   ]
  },
  {
   "cell_type": "code",
   "execution_count": 244,
   "metadata": {},
   "outputs": [],
   "source": [
    "def quartil():\n",
    "    posicao = int(0.25 * len(dados))\n",
    "    q1 = int(dados.iloc[posicao])\n",
    "    \n",
    "    q2 = mediana()\n",
    "    \n",
    "    posicao = int(0.75 * len(dados))\n",
    "    q3 = int(dados.iloc[posicao])\n",
    "    \n",
    "    return q1,q2,q3"
   ]
  },
  {
   "cell_type": "markdown",
   "metadata": {},
   "source": [
    "Intervalo interquartil \n",
    "================="
   ]
  },
  {
   "cell_type": "code",
   "execution_count": 245,
   "metadata": {},
   "outputs": [],
   "source": [
    "def intervalo_interquartil():\n",
    "    q = quartil()\n",
    "    dif = 0\n",
    "    dif = q[2] - q[0]\n",
    "    return dif\n",
    "    "
   ]
  },
  {
   "cell_type": "code",
   "execution_count": 246,
   "metadata": {},
   "outputs": [],
   "source": [
    "dados2 = pd.read_csv('Trabalho - Página1.csv') #Dados com UNIC -C para achar a moda"
   ]
  },
  {
   "cell_type": "markdown",
   "metadata": {},
   "source": [
    "Moda\n",
    "======"
   ]
  },
  {
   "cell_type": "code",
   "execution_count": 247,
   "metadata": {},
   "outputs": [],
   "source": [
    "def moda():\n",
    "    i = 0\n",
    "    qnt = 0\n",
    "    while i < len(dados2):\n",
    "        aux = int(dados2.iloc[i][\"Quantidade\"])\n",
    "        if(aux > qnt):\n",
    "            qnt = aux\n",
    "            moda = int(dados2.iloc[i][\"Tamanho\"])\n",
    "        i = i+1\n",
    "    return qnt, moda"
   ]
  },
  {
   "cell_type": "markdown",
   "metadata": {},
   "source": [
    "DADOS OBTIDOS\n",
    "==========="
   ]
  },
  {
   "cell_type": "code",
   "execution_count": 248,
   "metadata": {},
   "outputs": [
    {
     "name": "stdout",
     "output_type": "stream",
     "text": [
      "                     TABELA DOS DADOS                             \n",
      "__________________________________________________________________\n",
      " O valor da média é: 2102.7024110374973\n",
      "__________________________________________________________________\n",
      " O valor da variância é: 6541288465.141245\n",
      "__________________________________________________________________\n",
      " O valor do desvio padrão é: 80878.23233195224\n",
      "__________________________________________________________________\n",
      " O valor do coeficiente de variabilidade é: 38.463946161571194\n",
      "__________________________________________________________________\n",
      " O valor da amplitude é: 8504940\n",
      "__________________________________________________________________\n",
      " O valor da mediana é: 20\n",
      "__________________________________________________________________\n",
      " O primeiro quartil é: 8\n",
      "__________________________________________________________________\n",
      " O segundo quartil é: 20\n",
      "__________________________________________________________________\n",
      " O terceiro quartil é: 108\n",
      "__________________________________________________________________\n",
      " O intervalo interquartil é: 100\n",
      "__________________________________________________________________\n",
      " O valor da moda é 4 e ela aparece 6864 vezes\n",
      "__________________________________________________________________\n"
     ]
    }
   ],
   "source": [
    "print('                     TABELA DOS DADOS                             ')\n",
    "print('__________________________________________________________________')\n",
    "print(' O valor da média é:', media())\n",
    "print('__________________________________________________________________')\n",
    "print(' O valor da variância é:', variancia())\n",
    "print('__________________________________________________________________')\n",
    "print(' O valor do desvio padrão é:', desvio_padrao())\n",
    "print('__________________________________________________________________')\n",
    "print(' O valor do coeficiente de variabilidade é:', coeficiente_variabilidade())\n",
    "print('__________________________________________________________________')\n",
    "print(' O valor da amplitude é:', amplitude())\n",
    "print('__________________________________________________________________')\n",
    "print(' O valor da mediana é:', mediana())\n",
    "print('__________________________________________________________________')\n",
    "print(' O primeiro quartil é:', quartil()[0])\n",
    "print('__________________________________________________________________')\n",
    "print(' O segundo quartil é:', quartil()[1])\n",
    "print('__________________________________________________________________')\n",
    "print(' O terceiro quartil é:', quartil()[2])\n",
    "print('__________________________________________________________________')\n",
    "print(' O intervalo interquartil é:', intervalo_interquartil())\n",
    "print('__________________________________________________________________')\n",
    "print(' O valor da moda é',moda()[1],'e ela aparece', moda()[0],'vezes')\n",
    "print('__________________________________________________________________')\n"
   ]
  },
  {
   "cell_type": "markdown",
   "metadata": {},
   "source": [
    "**Fazer a comparação dos dados obtidos com os dados prontos do pandas**"
   ]
  },
  {
   "cell_type": "code",
   "execution_count": 249,
   "metadata": {},
   "outputs": [
    {
     "name": "stdout",
     "output_type": "stream",
     "text": [
      "=== Describe do dataframe ===\n",
      "            Tamanho\n",
      "count  2.928200e+04\n",
      "mean   2.102702e+03\n",
      "std    8.087823e+04\n",
      "min    4.000000e+00\n",
      "25%    8.000000e+00\n",
      "50%    2.000000e+01\n",
      "75%    1.080000e+02\n",
      "max    8.504944e+06\n",
      "=== Moda===\n",
      "   Tamanho\n",
      "0        4\n",
      "=== Variancia ===\n",
      "Tamanho    6.541288e+09\n",
      "dtype: float64\n"
     ]
    }
   ],
   "source": [
    "print('=== Describe do dataframe ===')\n",
    "print(dados.describe())\n",
    "print('=== Moda===')\n",
    "print(dados.mode())\n",
    "print('=== Variancia ===')\n",
    "print(dados.var())"
   ]
  },
  {
   "cell_type": "markdown",
   "metadata": {},
   "source": [
    "* A partir da comparação dos dados obtidos a partir das funções feitas com os dados obtidos das funções prontas do PANDAS é possível perceber que os dados são iguais, fazendo com que as funções feitas estejam praticamente corretas"
   ]
  },
  {
   "cell_type": "markdown",
   "metadata": {},
   "source": [
    "Gráfico da PDF\n",
    "============="
   ]
  },
  {
   "cell_type": "code",
   "execution_count": 250,
   "metadata": {},
   "outputs": [],
   "source": [
    "def vetor_pdf():\n",
    "    i = 0\n",
    "    vet_pdf = []\n",
    "    while i < len(dados2):\n",
    "        prob = int(dados2.iloc[i][\"Quantidade\"])/len(dados)\n",
    "        vet_pdf.append(prob)\n",
    "        i = i+1\n",
    "    return vet_pdf"
   ]
  },
  {
   "cell_type": "code",
   "execution_count": 251,
   "metadata": {},
   "outputs": [
    {
     "data": {
      "image/png": "[encoded data removed]",
      "text/plain": [
       "<Figure size 432x288 with 1 Axes>"
      ]
     },
     "metadata": {
      "needs_background": "light"
     },
     "output_type": "display_data"
    }
   ],
   "source": [
    "pdf = vetor_pdf()\n",
    "plt.plot(pdf,'r-')\n",
    "plt.title(\"Gráfico da PDF\")\n",
    "plt.xlabel('Número de tamanhos possíveis')\n",
    "plt.ylabel('Possibilidade do tamanho ocorrer')\n",
    "\n",
    "plt.show()"
   ]
  },
  {
   "cell_type": "markdown",
   "metadata": {},
   "source": [
    "Gráfico da cdf\n",
    "==============="
   ]
  },
  {
   "cell_type": "code",
   "execution_count": 252,
   "metadata": {},
   "outputs": [],
   "source": [
    "def vetor_cdf():\n",
    "    i = 0\n",
    "    vet_cdf = []\n",
    "    prob = 0\n",
    "    while i < len(dados2):\n",
    "        prob += int(dados2.iloc[i][\"Quantidade\"])/len(dados)\n",
    "        vet_cdf.append(prob)\n",
    "        i = i+1\n",
    "    return vet_cdf"
   ]
  },
  {
   "cell_type": "code",
   "execution_count": 253,
   "metadata": {},
   "outputs": [
    {
     "data": {
      "image/png": "[encoded data removed]",
      "text/plain": [
       "<Figure size 432x288 with 1 Axes>"
      ]
     },
     "metadata": {
      "needs_background": "light"
     },
     "output_type": "display_data"
    }
   ],
   "source": [
    "cdf = vetor_cdf()\n",
    "plt.plot(cdf,'r-')\n",
    "plt.title(\"Gráfico da CDF\")\n",
    "plt.xlabel('Número de tamanhos possíveis')\n",
    "plt.ylabel('Possibilidade acumulada do tamanho ocorrer')\n",
    "plt.show()"
   ]
  },
  {
   "cell_type": "markdown",
   "metadata": {},
   "source": [
    "Análise de dados\n",
    "=============="
   ]
  },
  {
   "cell_type": "markdown",
   "metadata": {},
   "source": [
    "   Ao analisar os dados foi possível perceber que há uma grande diferença entre o tamanho dos arquivos obtidos, uma vez que a amplitude dos dados foi alta, igual a 8504940 bytes. Outro dado que pode ser visto para comprar a grande diferença no tamanho dos arquivos é a variância e o desvio padrão. Como a variância é o quadrado do desvio padrão, se os dois apresentam valores muito elevado quer dizer que há uma variação notável entre os dados.\n",
    "   \n",
    "   Das métricas utilizadas, a que menos descreve sobre os dados é a média. Com o valor de, aproximadamente, 2102.7 bytes, é possível perceber que é um valor relativamente alto quando comparamos com o terceiro quartil, valor que mostra até onde vão 75% dos dados, já que o 3 quartil apresenta um valor de 108 bytes. Ou seja, apenas 25% dos dados apresentam tamanho acima do terceiro quartil.\n",
    "   \n",
    "   Os gráficos da PDF (Probability Density Function) e da CDF (Cumulative Distribution Function) apresentam o comportamento esperado. No primeiro, quanto maior o tamanho do arquivo em bytes menor a probabilidade dele ocorrer nos dados, o que faz sentido, pois o número de arquivos pesados é menor do que o número de arquivos pequenos. No segundo, a probabilidade vai aumentando na medida em que o tamanho do arquivo aumenta, o que faz sentido,  já que as probabilidades de ocorrência dos arquivos vão sendo somadas até chegarem ao valor máximo da probabilidade (= 1).\n",
    "    "
   ]
  },
  {
   "cell_type": "code",
   "execution_count": null,
   "metadata": {},
   "outputs": [],
   "source": []
  }
 ],
 "metadata": {
  "kernelspec": {
   "display_name": "Python 3",
   "language": "python",
   "name": "python3"
  },
  "language_info": {
   "codemirror_mode": {
    "name": "ipython",
    "version": 3
   },
   "file_extension": ".py",
   "mimetype": "text/x-python",
   "name": "python",
   "nbconvert_exporter": "python",
   "pygments_lexer": "ipython3",
   "version": "3.7.1"
  }
 },
 "nbformat": 4,
 "nbformat_minor": 2
}
